{
  "nbformat": 4,
  "nbformat_minor": 0,
  "metadata": {
    "colab": {
      "provenance": [],
      "collapsed_sections": []
    },
    "kernelspec": {
      "name": "python3",
      "display_name": "Python 3"
    },
    "language_info": {
      "name": "python"
    }
  },
  "cells": [
    {
      "cell_type": "code",
      "source": [
        "class calculator():\n",
        "   def __init__(self,n1,n2):\n",
        "      self.a=n1\n",
        "      self.b=n2\n",
        "   def add(self):\n",
        "      return self.a+self.b\n",
        "   def mul(self):\n",
        "      return self.a*self.b\n",
        "   def div(self):\n",
        "      return self.a/self.b\n",
        "   def sub(self):\n",
        "      return self.a-self.b\n",
        "   "
      ],
      "metadata": {
        "id": "01x8Q5ACqin_"
      },
      "execution_count": null,
      "outputs": []
    },
    {
      "cell_type": "code",
      "source": [
        "Solution=calculator(n1,n2)\n",
        "def Menu():\n",
        "        x = ('1. Add \\n2. Sub \\n3. Multiply \\n4. Divide') \n",
        "        print(x)\n",
        "Menu()\n",
        "choice = int(input('Please select one of the following : ')) \n",
        "if choice == 1:\n",
        "        print(\"Result: \",Solution.add())\n",
        "elif choice == 2:\n",
        "        print(\"Result: \",Solution.sub())\n",
        "elif choice == 3:\n",
        "        print(\"Result: \",Solution.multiply())    \n",
        "elif choice == 4:\n",
        "        print(\"Result: \",Solution.divide())\n",
        "elif choice == 0:\n",
        "        print('Again try one of the following')\n",
        "        \n",
        "else:\n",
        "      print(\"Sorry, invalid Menu!\")\n",
        "print()"
      ],
      "metadata": {
        "colab": {
          "base_uri": "https://localhost:8080/",
          "height": 132
        },
        "id": "139gZtTjqika",
        "outputId": "f7ec32be-ef08-4260-9a30-7281ab54ca79"
      },
      "execution_count": null,
      "outputs": [
        {
          "output_type": "error",
          "ename": "IndentationError",
          "evalue": "ignored",
          "traceback": [
            "\u001b[0;36m  File \u001b[0;32m\"<tokenize>\"\u001b[0;36m, line \u001b[0;32m5\u001b[0m\n\u001b[0;31m    Menu()\u001b[0m\n\u001b[0m    ^\u001b[0m\n\u001b[0;31mIndentationError\u001b[0m\u001b[0;31m:\u001b[0m unindent does not match any outer indentation level\n"
          ]
        }
      ]
    },
    {
      "cell_type": "code",
      "source": [
        "input_1 = int(input(\"Enter the first number: \"))\n",
        "input_2 = int(input(\"Enter the second number: \"))\n",
        "print(\"The entered first and second numbers are : \")\n",
        "print(input_1, input_2)"
      ],
      "metadata": {
        "id": "iEM5uzKPqiaL"
      },
      "execution_count": null,
      "outputs": []
    },
    {
      "cell_type": "code",
      "source": [
        "class calculator():\n",
        "\n",
        "   input_1 = int(input(\"Enter the first number: \"))\n",
        "   input_2 = int(input(\"Enter the second number: \"))\n",
        "   print(\"The entered first and second numbers are : \")\n",
        "   print(input_1, input_2)\n",
        "\n",
        "   def __init__(self,in_1,in_2):\n",
        "      self.a=in_1\n",
        "      self.b=in_2\n",
        "   def add(self):\n",
        "      return self.a+self.b\n",
        "   def mul(self):\n",
        "      return self.a*self.b\n",
        "   def div(self):\n",
        "      return self.a/self.b\n",
        "   def sub(self):\n",
        "      return self.a-self.b\n",
        "\n",
        "Solution = calculator(input_1,input_2)\n",
        "Menu=1\n",
        "while Menu!=0:\n",
        "   print(\"0. Exit\")\n",
        "   print(\"1. Addition\")\n",
        "   print(\"2. Subtraction\")\n",
        "   print(\"3. Multiplication\")\n",
        "   print(\"4. Division\")\n",
        "   Menu=int(input(\"Enter your choice... \"))\n",
        "   if Menu==1:\n",
        "      print(\"The computed addition result is : \",Solution.add())\n",
        "   elif Menu==2:\n",
        "      print(\"The computed subtraction result is : \",Solution.sub())\n",
        "   elif Menu==3:\n",
        "      print(\"The computed product result is : \",Solution.mul())\n",
        "   elif Menu==4:\n",
        "      print(\"The computed division result is : \",Solution.div())\n",
        "   elif Menu==0:\n",
        "      print(\"Exit\")\n",
        "   else:\n",
        "      print(\"Sorry, invalid Menu!\")\n",
        "print()"
      ],
      "metadata": {
        "id": "3t6DALrPqiKj"
      },
      "execution_count": null,
      "outputs": []
    },
    {
      "cell_type": "code",
      "execution_count": null,
      "metadata": {
        "colab": {
          "base_uri": "https://localhost:8080/",
          "height": 677
        },
        "id": "byWwFTMREfAe",
        "outputId": "911316df-f17b-465e-fb53-22eb61d4d8a1"
      },
      "outputs": [
        {
          "output_type": "stream",
          "name": "stdout",
          "text": [
            "Enter the first number: 5\n",
            "Enter the second number: 6\n",
            "The entered first and second numbers are : \n",
            "5 6\n",
            "0. Exit\n",
            "1. Addition\n",
            "2. Subtraction\n",
            "3. Multiplication\n",
            "4. Division\n",
            "Enter your choice... 3\n",
            "The computed product result is :  30\n",
            "0. Exit\n",
            "1. Addition\n",
            "2. Subtraction\n",
            "3. Multiplication\n",
            "4. Division\n"
          ]
        },
        {
          "output_type": "error",
          "ename": "KeyboardInterrupt",
          "evalue": "ignored",
          "traceback": [
            "\u001b[0;31m---------------------------------------------------------------------------\u001b[0m",
            "\u001b[0;31mKeyboardInterrupt\u001b[0m                         Traceback (most recent call last)",
            "\u001b[0;32m<ipython-input-1-fd34caf3523d>\u001b[0m in \u001b[0;36m<module>\u001b[0;34m\u001b[0m\n\u001b[1;32m     23\u001b[0m    \u001b[0mprint\u001b[0m\u001b[0;34m(\u001b[0m\u001b[0;34m\"3. Multiplication\"\u001b[0m\u001b[0;34m)\u001b[0m\u001b[0;34m\u001b[0m\u001b[0;34m\u001b[0m\u001b[0m\n\u001b[1;32m     24\u001b[0m    \u001b[0mprint\u001b[0m\u001b[0;34m(\u001b[0m\u001b[0;34m\"4. Division\"\u001b[0m\u001b[0;34m)\u001b[0m\u001b[0;34m\u001b[0m\u001b[0;34m\u001b[0m\u001b[0m\n\u001b[0;32m---> 25\u001b[0;31m    \u001b[0mchoice\u001b[0m\u001b[0;34m=\u001b[0m\u001b[0mint\u001b[0m\u001b[0;34m(\u001b[0m\u001b[0minput\u001b[0m\u001b[0;34m(\u001b[0m\u001b[0;34m\"Enter your choice... \"\u001b[0m\u001b[0;34m)\u001b[0m\u001b[0;34m)\u001b[0m\u001b[0;34m\u001b[0m\u001b[0;34m\u001b[0m\u001b[0m\n\u001b[0m\u001b[1;32m     26\u001b[0m    \u001b[0;32mif\u001b[0m \u001b[0mchoice\u001b[0m\u001b[0;34m==\u001b[0m\u001b[0;36m1\u001b[0m\u001b[0;34m:\u001b[0m\u001b[0;34m\u001b[0m\u001b[0;34m\u001b[0m\u001b[0m\n\u001b[1;32m     27\u001b[0m       \u001b[0mprint\u001b[0m\u001b[0;34m(\u001b[0m\u001b[0;34m\"The computed addition result is : \"\u001b[0m\u001b[0;34m,\u001b[0m\u001b[0mSolution\u001b[0m\u001b[0;34m.\u001b[0m\u001b[0madd\u001b[0m\u001b[0;34m(\u001b[0m\u001b[0;34m)\u001b[0m\u001b[0;34m)\u001b[0m\u001b[0;34m\u001b[0m\u001b[0;34m\u001b[0m\u001b[0m\n",
            "\u001b[0;32m/usr/local/lib/python3.7/dist-packages/ipykernel/kernelbase.py\u001b[0m in \u001b[0;36mraw_input\u001b[0;34m(self, prompt)\u001b[0m\n\u001b[1;32m    861\u001b[0m             \u001b[0mself\u001b[0m\u001b[0;34m.\u001b[0m\u001b[0m_parent_ident\u001b[0m\u001b[0;34m,\u001b[0m\u001b[0;34m\u001b[0m\u001b[0;34m\u001b[0m\u001b[0m\n\u001b[1;32m    862\u001b[0m             \u001b[0mself\u001b[0m\u001b[0;34m.\u001b[0m\u001b[0m_parent_header\u001b[0m\u001b[0;34m,\u001b[0m\u001b[0;34m\u001b[0m\u001b[0;34m\u001b[0m\u001b[0m\n\u001b[0;32m--> 863\u001b[0;31m             \u001b[0mpassword\u001b[0m\u001b[0;34m=\u001b[0m\u001b[0;32mFalse\u001b[0m\u001b[0;34m,\u001b[0m\u001b[0;34m\u001b[0m\u001b[0;34m\u001b[0m\u001b[0m\n\u001b[0m\u001b[1;32m    864\u001b[0m         )\n\u001b[1;32m    865\u001b[0m \u001b[0;34m\u001b[0m\u001b[0m\n",
            "\u001b[0;32m/usr/local/lib/python3.7/dist-packages/ipykernel/kernelbase.py\u001b[0m in \u001b[0;36m_input_request\u001b[0;34m(self, prompt, ident, parent, password)\u001b[0m\n\u001b[1;32m    902\u001b[0m             \u001b[0;32mexcept\u001b[0m \u001b[0mKeyboardInterrupt\u001b[0m\u001b[0;34m:\u001b[0m\u001b[0;34m\u001b[0m\u001b[0;34m\u001b[0m\u001b[0m\n\u001b[1;32m    903\u001b[0m                 \u001b[0;31m# re-raise KeyboardInterrupt, to truncate traceback\u001b[0m\u001b[0;34m\u001b[0m\u001b[0;34m\u001b[0m\u001b[0;34m\u001b[0m\u001b[0m\n\u001b[0;32m--> 904\u001b[0;31m                 \u001b[0;32mraise\u001b[0m \u001b[0mKeyboardInterrupt\u001b[0m\u001b[0;34m(\u001b[0m\u001b[0;34m\"Interrupted by user\"\u001b[0m\u001b[0;34m)\u001b[0m \u001b[0;32mfrom\u001b[0m \u001b[0;32mNone\u001b[0m\u001b[0;34m\u001b[0m\u001b[0;34m\u001b[0m\u001b[0m\n\u001b[0m\u001b[1;32m    905\u001b[0m             \u001b[0;32mexcept\u001b[0m \u001b[0mException\u001b[0m \u001b[0;32mas\u001b[0m \u001b[0me\u001b[0m\u001b[0;34m:\u001b[0m\u001b[0;34m\u001b[0m\u001b[0;34m\u001b[0m\u001b[0m\n\u001b[1;32m    906\u001b[0m                 \u001b[0mself\u001b[0m\u001b[0;34m.\u001b[0m\u001b[0mlog\u001b[0m\u001b[0;34m.\u001b[0m\u001b[0mwarning\u001b[0m\u001b[0;34m(\u001b[0m\u001b[0;34m\"Invalid Message:\"\u001b[0m\u001b[0;34m,\u001b[0m \u001b[0mexc_info\u001b[0m\u001b[0;34m=\u001b[0m\u001b[0;32mTrue\u001b[0m\u001b[0;34m)\u001b[0m\u001b[0;34m\u001b[0m\u001b[0;34m\u001b[0m\u001b[0m\n",
            "\u001b[0;31mKeyboardInterrupt\u001b[0m: Interrupted by user"
          ]
        }
      ],
      "source": [
        "class calculator():\n",
        "   def __init__(self,in_1,in_2):\n",
        "      self.a=in_1\n",
        "      self.b=in_2\n",
        "   def add(self):\n",
        "      return self.a+self.b\n",
        "   def mul(self):\n",
        "      return self.a*self.b\n",
        "   def div(self):\n",
        "      return self.a/self.b\n",
        "   def sub(self):\n",
        "      return self.a-self.b\n",
        "input_1 = int(input(\"Enter the first number: \"))\n",
        "input_2 = int(input(\"Enter the second number: \"))\n",
        "print(\"The entered first and second numbers are : \")\n",
        "print(input_1, input_2)\n",
        "Solution = calculator(input_1,input_2)\n",
        "Menu=1\n",
        "while Menu!=0:\n",
        "   print(\"0. Exit\")\n",
        "   print(\"1. Addition\")\n",
        "   print(\"2. Subtraction\")\n",
        "   print(\"3. Multiplication\")\n",
        "   print(\"4. Division\")\n",
        "   Menu=int(input(\"Enter your choice... \"))\n",
        "   if Menu==1:\n",
        "      print(\"The computed addition result is : \",Solution.add())\n",
        "   elif Menu==2:\n",
        "      print(\"The computed subtraction result is : \",Solution.sub())\n",
        "   elif Menu==3:\n",
        "      print(\"The computed product result is : \",Solution.mul())\n",
        "   elif Menu==4:\n",
        "      print(\"The computed division result is : \",Solution.div())\n",
        "   elif Menu==0:\n",
        "      print(\"Exit\")\n",
        "   else:\n",
        "      print(\"Sorry, invalid Menu!\")\n",
        "print()"
      ]
    },
    {
      "cell_type": "markdown",
      "source": [],
      "metadata": {
        "id": "SviYI3s60xAr"
      }
    },
    {
      "cell_type": "code",
      "source": [
        "# Including square root, exponent and power.\n",
        "\n",
        "import math\n",
        "\n",
        "class calculator():\n",
        "   def __init__(self,in_1,in_2):\n",
        "      self.a=in_1\n",
        "      self.b=in_2\n",
        "   def add(self):\n",
        "      return self.a+self.b\n",
        "   def mul(self):\n",
        "      return self.a*self.b\n",
        "   def div(self):\n",
        "      return self.a/self.b\n",
        "   def sub(self):\n",
        "      return self.a-self.b\n",
        "   def squareroot(self):\n",
        "      return math.sqrt(self.a)\n",
        "      return math.sqrt(self.b)\n",
        "   def power(self):\n",
        "      return math.pow(self.a,self.b)\n",
        "   def exponent(self):\n",
        "      return math.e**self.a\n",
        "      return math.e**self.b\n",
        "\n",
        "  \n",
        "input_1 = int(input(\"Enter the first number: \"))\n",
        "input_2 = int(input(\"Enter the second number: \"))\n",
        "print(\"The entered first and second numbers are : \")\n",
        "\n",
        "\n",
        "print(input_1, input_2)\n",
        "Solution = calculator(input_1,input_2)\n",
        "Menu=1\n",
        "while Menu!=0:\n",
        "   print(\"0. Exit\\n 1. Addition\\n 2. Subtraction\\n 3. Multiplication\\n 4. Division\\n 5.Square Root\\n 6.Power\\n 7. Exponent\")\n",
        "   \n",
        "   Menu=int(input(\"Enter your choice... \"))\n",
        "   if Menu==1:\n",
        "      print(\"The addition result is : \",Solution.add())\n",
        "   elif Menu==2:\n",
        "      print(\"The subtraction result is : \",Solution.sub())\n",
        "   elif Menu==3:\n",
        "      print(\"The product result is : \",Solution.mul())\n",
        "   elif Menu==4:\n",
        "      print(\"The division result is : \",Solution.div())\n",
        "   elif Menu==5:\n",
        "      print(\"The square root result is : \",Solution.squareroot())\n",
        "   elif Menu==6:\n",
        "      print(\"The Power result is : \",Solution.power())\n",
        "   elif Menu==7:\n",
        "      print(\"The Exponential result is : \",Solution.exponent())\n",
        "   elif Menu==0:\n",
        "      print(\"Exit\")\n",
        "\n",
        "   next_calculation = input(\"Would you like to go to the next calculation? (yes/no): \")\n",
        "   if next_calculation == \"no\":\n",
        "         break\n",
        "   else:\n",
        "      print(\"Sorry, invalid Menu!\")\n",
        "print()"
      ],
      "metadata": {
        "colab": {
          "base_uri": "https://localhost:8080/"
        },
        "id": "SuogcT4TrT6t",
        "outputId": "30ddf0a1-12c6-45d2-8d9c-da341bff9fa6"
      },
      "execution_count": null,
      "outputs": [
        {
          "output_type": "stream",
          "name": "stdout",
          "text": [
            "Enter the first number: 5\n",
            "Enter the second number: 7\n",
            "The entered first and second numbers are : \n",
            "5 7\n",
            "0. Exit\n",
            " 1. Addition\n",
            " 2. Subtraction\n",
            " 3. Multiplication\n",
            " 4. Division\n",
            " 5.Square Root\n",
            " 6.Power\n",
            " 7. Exponent\n",
            "Enter your choice... 6\n",
            "The Power result is :  78125.0\n",
            "0. Exit\n",
            " 1. Addition\n",
            " 2. Subtraction\n",
            " 3. Multiplication\n",
            " 4. Division\n",
            " 5.Square Root\n",
            " 6.Power\n",
            " 7. Exponent\n",
            "Enter your choice... 0\n",
            "Exit\n",
            "\n"
          ]
        }
      ]
    },
    {
      "cell_type": "code",
      "source": [
        "import math\n",
        "\n",
        "class calculator():\n",
        "   def __init__(self,in_1,in_2):\n",
        "      self.a=in_1\n",
        "      self.b=in_2\n",
        "   def add(self):\n",
        "      return self.a+self.b\n",
        "   def mul(self):\n",
        "      return self.a*self.b\n",
        "   def div(self):\n",
        "      return self.a/self.b\n",
        "   def sub(self):\n",
        "      return self.a-self.b\n",
        "   def squareroot(self):\n",
        "      return math.sqrt(self.a)\n",
        "      \n",
        "   def power(self):\n",
        "      return math.pow(self.a,self.b)\n",
        "   def exponent(self):\n",
        "      return math.e**self.a\n",
        "      \n",
        "\n",
        "  \n",
        "input_1 = int(input(\"Enter the first number: \"))\n",
        "input_2 = int(input(\"Enter the second number: \"))\n",
        "print(\"The entered first and second numbers are : \")\n",
        "\n",
        "\n",
        "print(input_1, input_2)\n",
        "Solution = calculator(input_1,input_2)\n",
        "Menu=1\n",
        "while Menu!=0:\n",
        "   print(\"0. Exit\\n 1. Addition\\n 2. Subtraction\\n 3. Multiplication\\n 4. Division\\n 5.Square Root\\n 6.Power\\n 7. Exponent\")\n",
        "   \n",
        "   Menu=int(input(\"Enter your choice... \"))\n",
        "   if Menu==1:\n",
        "      print(\"The addition result is : \",Solution.add())\n",
        "   elif Menu==2:\n",
        "      print(\"The subtraction result is : \",Solution.sub())\n",
        "   elif Menu==3:\n",
        "      print(\"The product result is : \",Solution.mul())\n",
        "   elif Menu==4:\n",
        "      print(\"The division result is : \",Solution.div())\n",
        "   elif Menu==5:\n",
        "      print(\"The square root result of 1st number is : \",Solution.squareroot())\n",
        "\n",
        "   elif Menu==6:\n",
        "      print(\"The Power result is : \",Solution.power())\n",
        "   elif Menu==7:\n",
        "      print(\"The Exponential result is : \",Solution.exponent())\n",
        "   elif Menu==0:\n",
        "      print(\"Exit\")\n",
        "\n",
        "   next_calculation = input(\"Would you like to go to the next calculation? (yes/no): \")\n",
        "   if next_calculation == \"no\":\n",
        "         break\n",
        "   else:\n",
        "      print(\"Sorry, invalid Menu!\")\n",
        "print()"
      ],
      "metadata": {
        "id": "mgiXGX9MxlgK",
        "colab": {
          "base_uri": "https://localhost:8080/",
          "height": 659
        },
        "outputId": "456d765b-16f7-4aa6-8f4d-817112044fb3"
      },
      "execution_count": null,
      "outputs": [
        {
          "output_type": "stream",
          "name": "stdout",
          "text": [
            "Enter the first number: 8\n",
            "Enter the second number: 9\n",
            "The entered first and second numbers are : \n",
            "8 9\n",
            "0. Exit\n",
            " 1. Addition\n",
            " 2. Subtraction\n",
            " 3. Multiplication\n",
            " 4. Division\n",
            " 5.Square Root\n",
            " 6.Power\n",
            " 7. Exponent\n",
            "Enter your choice... 5\n",
            "The square root result of 1st number is :  2.8284271247461903\n"
          ]
        },
        {
          "output_type": "error",
          "ename": "KeyboardInterrupt",
          "evalue": "ignored",
          "traceback": [
            "\u001b[0;31m---------------------------------------------------------------------------\u001b[0m",
            "\u001b[0;31mKeyboardInterrupt\u001b[0m                         Traceback (most recent call last)",
            "\u001b[0;32m<ipython-input-2-94931e070c38>\u001b[0m in \u001b[0;36m<module>\u001b[0;34m\u001b[0m\n\u001b[1;32m     53\u001b[0m       \u001b[0mprint\u001b[0m\u001b[0;34m(\u001b[0m\u001b[0;34m\"Exit\"\u001b[0m\u001b[0;34m)\u001b[0m\u001b[0;34m\u001b[0m\u001b[0;34m\u001b[0m\u001b[0m\n\u001b[1;32m     54\u001b[0m \u001b[0;34m\u001b[0m\u001b[0m\n\u001b[0;32m---> 55\u001b[0;31m    \u001b[0mnext_calculation\u001b[0m \u001b[0;34m=\u001b[0m \u001b[0minput\u001b[0m\u001b[0;34m(\u001b[0m\u001b[0;34m\"Would you like to go to the next calculation? (yes/no): \"\u001b[0m\u001b[0;34m)\u001b[0m\u001b[0;34m\u001b[0m\u001b[0;34m\u001b[0m\u001b[0m\n\u001b[0m\u001b[1;32m     56\u001b[0m    \u001b[0;32mif\u001b[0m \u001b[0mnext_calculation\u001b[0m \u001b[0;34m==\u001b[0m \u001b[0;34m\"no\"\u001b[0m\u001b[0;34m:\u001b[0m\u001b[0;34m\u001b[0m\u001b[0;34m\u001b[0m\u001b[0m\n\u001b[1;32m     57\u001b[0m          \u001b[0;32mbreak\u001b[0m\u001b[0;34m\u001b[0m\u001b[0;34m\u001b[0m\u001b[0m\n",
            "\u001b[0;32m/usr/local/lib/python3.7/dist-packages/ipykernel/kernelbase.py\u001b[0m in \u001b[0;36mraw_input\u001b[0;34m(self, prompt)\u001b[0m\n\u001b[1;32m    861\u001b[0m             \u001b[0mself\u001b[0m\u001b[0;34m.\u001b[0m\u001b[0m_parent_ident\u001b[0m\u001b[0;34m,\u001b[0m\u001b[0;34m\u001b[0m\u001b[0;34m\u001b[0m\u001b[0m\n\u001b[1;32m    862\u001b[0m             \u001b[0mself\u001b[0m\u001b[0;34m.\u001b[0m\u001b[0m_parent_header\u001b[0m\u001b[0;34m,\u001b[0m\u001b[0;34m\u001b[0m\u001b[0;34m\u001b[0m\u001b[0m\n\u001b[0;32m--> 863\u001b[0;31m             \u001b[0mpassword\u001b[0m\u001b[0;34m=\u001b[0m\u001b[0;32mFalse\u001b[0m\u001b[0;34m,\u001b[0m\u001b[0;34m\u001b[0m\u001b[0;34m\u001b[0m\u001b[0m\n\u001b[0m\u001b[1;32m    864\u001b[0m         )\n\u001b[1;32m    865\u001b[0m \u001b[0;34m\u001b[0m\u001b[0m\n",
            "\u001b[0;32m/usr/local/lib/python3.7/dist-packages/ipykernel/kernelbase.py\u001b[0m in \u001b[0;36m_input_request\u001b[0;34m(self, prompt, ident, parent, password)\u001b[0m\n\u001b[1;32m    902\u001b[0m             \u001b[0;32mexcept\u001b[0m \u001b[0mKeyboardInterrupt\u001b[0m\u001b[0;34m:\u001b[0m\u001b[0;34m\u001b[0m\u001b[0;34m\u001b[0m\u001b[0m\n\u001b[1;32m    903\u001b[0m                 \u001b[0;31m# re-raise KeyboardInterrupt, to truncate traceback\u001b[0m\u001b[0;34m\u001b[0m\u001b[0;34m\u001b[0m\u001b[0;34m\u001b[0m\u001b[0m\n\u001b[0;32m--> 904\u001b[0;31m                 \u001b[0;32mraise\u001b[0m \u001b[0mKeyboardInterrupt\u001b[0m\u001b[0;34m(\u001b[0m\u001b[0;34m\"Interrupted by user\"\u001b[0m\u001b[0;34m)\u001b[0m \u001b[0;32mfrom\u001b[0m \u001b[0;32mNone\u001b[0m\u001b[0;34m\u001b[0m\u001b[0;34m\u001b[0m\u001b[0m\n\u001b[0m\u001b[1;32m    905\u001b[0m             \u001b[0;32mexcept\u001b[0m \u001b[0mException\u001b[0m \u001b[0;32mas\u001b[0m \u001b[0me\u001b[0m\u001b[0;34m:\u001b[0m\u001b[0;34m\u001b[0m\u001b[0;34m\u001b[0m\u001b[0m\n\u001b[1;32m    906\u001b[0m                 \u001b[0mself\u001b[0m\u001b[0;34m.\u001b[0m\u001b[0mlog\u001b[0m\u001b[0;34m.\u001b[0m\u001b[0mwarning\u001b[0m\u001b[0;34m(\u001b[0m\u001b[0;34m\"Invalid Message:\"\u001b[0m\u001b[0;34m,\u001b[0m \u001b[0mexc_info\u001b[0m\u001b[0;34m=\u001b[0m\u001b[0;32mTrue\u001b[0m\u001b[0;34m)\u001b[0m\u001b[0;34m\u001b[0m\u001b[0;34m\u001b[0m\u001b[0m\n",
            "\u001b[0;31mKeyboardInterrupt\u001b[0m: Interrupted by user"
          ]
        }
      ]
    },
    {
      "cell_type": "markdown",
      "source": [
        "***Alt + Click ***the word you want to edit for Windows.\n",
        "To select all occurrences of the current selection, please use\n",
        "\n",
        "    Ctrl + Shift + L for Windows"
      ],
      "metadata": {
        "id": "mS-IiHxQpXIp"
      }
    },
    {
      "cell_type": "code",
      "source": [
        "class calc():\n",
        "    def __init__(self,a,b):\n",
        "        self.a = a\n",
        "        self.b = b\n",
        "    def add(self):\n",
        "        return self.a + self.b\n",
        "    def sub(self):\n",
        "        return self.a - self.b\n",
        "    def multiply(self):\n",
        "        return self.a * self.b\n",
        "    def divide(self):\n",
        "        return self.a / self.b\n",
        "    def squareroot(self):\n",
        "      return math.sqrt(self.a)\n",
        "      return math.sqrt(self.b)\n",
        "    def power(self):\n",
        "      return math.pow(self.a,self.b)\n",
        "    def exponent(self):\n",
        "      return math.e**self.a\n",
        "      return math.e**self.b\n",
        "\n",
        "a = int(input('Enter First number : '))\n",
        "b = int(input('Enter Second number : '))        \n",
        "Solution=calc(a,b)\n",
        "while True:\n",
        "    def Menu():\n",
        "        x = ('1. Add \\n2. Sub \\n3. Multiply \\n4. Divide') \n",
        "        print(x)\n",
        "    Menu()\n",
        "    choice = int(input('Please select one of the following : ')) \n",
        "    if choice == 1:\n",
        "        print(\"Result: \",Solution.add())\n",
        "    elif choice == 2:\n",
        "        print(\"Result: \",Solution.sub())\n",
        "    elif choice == 3:\n",
        "        print(\"Result: \",Solution.multiply())    \n",
        "    elif choice == 4:\n",
        "        print(\"Result: \",Solution.divide())\n",
        "    elif choice == 0:\n",
        "        print('Again try one of the following')\n",
        "        break\n",
        "\n",
        "    next_calculation = input(\"Would you like to go to the next calculation? (yes/no): \")\n",
        "    if next_calculation == \"no\":\n",
        "         break\n",
        "    else:\n",
        "        print('Invalid option') \n",
        "        break       \n",
        "print()\n"
      ],
      "metadata": {
        "id": "fCx0k-1YnEYt"
      },
      "execution_count": null,
      "outputs": []
    },
    {
      "cell_type": "markdown",
      "source": [
        "### Example related to Inheritance, heirarchy etc."
      ],
      "metadata": {
        "id": "iPl4-GxbjT4c"
      }
    },
    {
      "cell_type": "code",
      "source": [
        "class Bank:\n",
        "  c_name = 'My Bank'\n",
        "\n",
        "class Branch1(Bank):\n",
        "  branch_name = 'Daxini'\n",
        "class Branch2(Bank):\n",
        "  branch_name = 'Ghodasar'\n",
        "class Branch3(Bank):\n",
        "  branch_name = 'Isanpur'\n",
        "\n",
        "class Department1(Bank):\n",
        "  dept_name = 'IT'\n",
        "\n",
        "class About(Branch1,Branch2, Branch3, Department1):\n",
        "  pass"
      ],
      "metadata": {
        "id": "Ve4_LkPgjcz1"
      },
      "execution_count": null,
      "outputs": []
    },
    {
      "cell_type": "code",
      "source": [],
      "metadata": {
        "id": "gfeSbFSwGpZG"
      },
      "execution_count": null,
      "outputs": []
    },
    {
      "cell_type": "code",
      "source": [
        "class Bank:\n",
        "    def __init__(self):\n",
        "        self.balance = 0\n",
        "        print (\"The account is created\")\n",
        "        \n",
        "    def deposit(self):\n",
        "        amount = float(input(\"Enter the amount to be deposited: \"))\n",
        "        self.balance = self.balance + amount\n",
        "        print (\"The deposit is successful & the balance is \" . self.balance)\n",
        "    \n",
        "    def withdraw(self):\n",
        "        amount = float(input(\"Enter the amount to withdraw: \"))\n",
        "        if (self.balance >= amount):\n",
        "            self.balance = self.balance - amount\n",
        "            print (\"The withdraw is successful & the balance is \" , self.balance)\n",
        "        else:\n",
        "            print ('Insufficient Balance')\n",
        "    \n",
        "    def enquiry(self):\n",
        "        print (\"Balance in the account is \" , self.balance)\n",
        "        \n",
        "\n",
        "acc = Bank()\n",
        "acc.deposit()\n",
        "acc.withdraw()\n",
        "acc.enquiry()"
      ],
      "metadata": {
        "id": "yV3dNOv_GMo7"
      },
      "execution_count": null,
      "outputs": []
    },
    {
      "cell_type": "code",
      "source": [
        "#Multi-Level Inheritance\n",
        "\n",
        "class Details1:\n",
        "    def __init__(self):\n",
        "        self.__id=0\n",
        "    def setId(self):\n",
        "        self.__id=int(input(\"Enter Id: \"))\n",
        "    def showId(self):\n",
        "        print(\"Id: \",self.__id)\n",
        "\n",
        "class Details2(Details1):\n",
        "    def __init__(self):\n",
        "        self.__name=\"\"\n",
        "    def setName(self):\n",
        "        self.setId()\n",
        "        self.__name=input(\"Enter Name: \")\n",
        "    def showName(self):\n",
        "        self.showId()\n",
        "        print(\"Name: \",self.__name)\n",
        "\n",
        "class Details3(Details2):\n",
        "    def __init__(self):\n",
        "        self.__gender=\"\"\n",
        "    def setGender(self):\n",
        "        self.setName()\n",
        "        self.__gender=input(\"Enter Gender: \")\n",
        "    def DisplayGender(self):\n",
        "        self.showName()\n",
        "        print(\"Gender: \",self.__gender)\n",
        "\n",
        "class Employee(Details3):\n",
        "    def __init__(self):\n",
        "        self.__desig=\"\"\n",
        "        self.__dept=\"\"\n",
        "    def setEmployee(self):\n",
        "        self.setGender()\n",
        "        self.__desig=input(\"Enter Designation: \")\n",
        "        self.__dept= input(\"Enter Department: \")\n",
        "    def showEmployee(self):\n",
        "        self.DisplayGender()\n",
        "        print(\"Designation: \",self.__desig)\n",
        "        print(\"Department: \",self.__dept)\n",
        "\n",
        "def main():\n",
        "    e = Employee()\n",
        "    e.setEmployee()\n",
        "    e.showEmployee()\n",
        "\n",
        "\n",
        "if __name__==\"__main__\":\n",
        "  main()"
      ],
      "metadata": {
        "id": "UYQQZwLdGrct"
      },
      "execution_count": null,
      "outputs": []
    }
  ]
}